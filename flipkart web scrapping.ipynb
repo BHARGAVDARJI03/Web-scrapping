{
 "cells": [
  {
   "cell_type": "code",
   "execution_count": null,
   "id": "1d6a808e",
   "metadata": {},
   "outputs": [],
   "source": [
    "import requests \n",
    "from bs4 import BeautifulSoup\n",
    "import pandas as pd\n",
    "mobile_name=[]\n",
    "price=[]\n",
    "description=[]\n",
    "for i in range(3,21):\n",
    "    url = \"https://www.flipkart.com/search?q=mobile+phone+5g&as=on&as-show=on&otracker=AS_Query_OrganicAutoSuggest_5_13_na_na_na&otracker1=AS_Query_OrganicAutoSuggest_5_13_na_na_na&as-pos=5&as-type=RECENT&suggestionId=mobile+phone+5g&requestId=a96e77a5-c628-49a6-9618-b0a6b4007006&as-searchtext=mobile+phone+&page=\" + str(i)\n",
    "    r = requests.get(url)\n",
    "    soup = BeautifulSoup(r.text,\"lxml\")\n",
    "    name = soup.find_all(\"div\",class_=\"_4rR01T\")\n",
    "    for i in name:\n",
    "        m =i.text\n",
    "        mobile_name.append(m)\n",
    "    pric = soup.find_all(\"div\",class_=\"_30jeq3 _1_WHN1\")\n",
    "    for i in pric:\n",
    "        p =i.text\n",
    "        price.append(p)\n",
    "    dec = soup.find_all(\"div\",class_=\"fMghEO\")\n",
    "    for i in dec:\n",
    "        d =i.text\n",
    "        description.append(d)\n",
    "df = pd.DataFrame({\"mobile name\" : mobile_name,\"price\":price,\"description\":description})\n",
    "df.to_csv(\"mobile details.csv\")"
   ]
  }
 ],
 "metadata": {
  "kernelspec": {
   "display_name": "Python 3 (ipykernel)",
   "language": "python",
   "name": "python3"
  },
  "language_info": {
   "codemirror_mode": {
    "name": "ipython",
    "version": 3
   },
   "file_extension": ".py",
   "mimetype": "text/x-python",
   "name": "python",
   "nbconvert_exporter": "python",
   "pygments_lexer": "ipython3",
   "version": "3.11.5"
  }
 },
 "nbformat": 4,
 "nbformat_minor": 5
}
